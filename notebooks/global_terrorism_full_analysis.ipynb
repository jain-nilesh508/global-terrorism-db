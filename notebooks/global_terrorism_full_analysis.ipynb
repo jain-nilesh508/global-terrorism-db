{
 "cells": [
  {
   "cell_type": "code",
   "execution_count": 4,
   "metadata": {},
   "outputs": [],
   "source": [
    "\n",
    "\n",
    "import matplotlib.pyplot as plt\n",
    "import missingno\n",
    "import numpy as np\n",
    "import pandas as pd\n",
    "import seaborn as sns\n",
    "\n",
    "%matplotlib inline"
   ]
  },
  {
   "cell_type": "code",
   "execution_count": 5,
   "metadata": {},
   "outputs": [],
   "source": [
    "# set up a clean plotting style\n",
    "sns.set_style('whitegrid')\n",
    "\n",
    "# make figures a little high-res (and larger in Jupyter)\n",
    "plt.rc('figure', dpi=120)"
   ]
  },
  {
   "cell_type": "markdown",
   "metadata": {},
   "source": [
    "### Understanding where the data comes from\n",
    "\n",
    "Before we begin even looking at the data, it is important to understand the process that generates the data. When teaching machines to learn from data, we must ourselves understand the biases, limitations, and corruption present in the data we use to teach them. Once we understand the story of how the data came to be, we can take the necessary steps to mitigate bias or corruption in the dataset or explicitly call out these issues when using our trained ML technology. If we do not look into the story of the data, we will inadvertently end up teaching our machines to identify patterns related to the data collection methodology rather than the actual phenomenon the data is seeking to measure, and our findings will be biased.\n",
    "\n",
    "\n",
    "#### Data Collection Phases\n",
    "\n",
    "Referring to the \n",
    "\n",
    "![data collection phases table](img/gtd_collection_phases.png)\n",
    "\n",
    "*Legacy issues – The GTD now includes incidents of terrorism from 1970 to 2017, however a\n",
    "number of new variables were added to the database beginning with the post-1997 data\n",
    "collection effort. Wherever possible, values for these new variables were retroactively coded\n",
    "for the original incidents, however some of the new variables pertain to details that were not\n",
    "recorded in the first phase of data collection. For any newly added variables that were not\n",
    "retroactively coded and thus only exist for post-1997 cases and earlier events added through\n",
    "recent supplemental collection efforts the Codebook notes the following:*\n",
    "\n",
    "Note: This field is presently only systematically available with incidents occurring after 1997."
   ]
  },
  {
   "cell_type": "code",
   "execution_count": null,
   "metadata": {},
   "outputs": [],
   "source": []
  }
 ],
 "metadata": {
  "kernelspec": {
   "display_name": "Python 3",
   "language": "python",
   "name": "python3"
  },
  "language_info": {
   "codemirror_mode": {
    "name": "ipython",
    "version": 3
   },
   "file_extension": ".py",
   "mimetype": "text/x-python",
   "name": "python",
   "nbconvert_exporter": "python",
   "pygments_lexer": "ipython3",
   "version": "3.7.1"
  }
 },
 "nbformat": 4,
 "nbformat_minor": 2
}
