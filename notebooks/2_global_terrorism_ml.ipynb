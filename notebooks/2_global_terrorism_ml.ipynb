{
 "cells": [
  {
   "cell_type": "markdown",
   "metadata": {},
   "source": [
    "# Preface\n",
    "\n",
    "### Attribution and copyright\n",
    "This analysis is based upon the Global Terrorism Database (GTD) maintained by the National Consortium for the Study of Terrorism and Responses to Terrorism (START). Unless otherwise noted, all data used in this analysis of from the GTD:\n",
    "\n",
    "**National Consortium for the Study of Terrorism and Responses to Terrorism (START), University of Maryland. (2018). The Global Terrorism Database (GTD) [Data file]. Retrieved from https://www.start.umd.edu/gtd**\n",
    "\n",
    "This dataset and associated reference materials are also subject to the following copyright: **Copyright University of Maryland 2018**\n",
    "\n",
    "\n",
    "### License\n",
    "The author has been granted a *non-transferable* right and license to access the GTD solely for non-commercial research and analysis. Accordingly, all original data files, reference materials, and excerpts of these files or references are not included alongside the analysis. Where the author made use of direct excerpts of the data, the code to view these excerpts will be included, but the excerpts themselves will not be included.\n",
    "\n",
    "If you have a license to access the GTD, you can re-create these excerpts by cloning this repository, installing the project requirements (you may use the `make requirements` command), placing a copy of the full GTD dataset in the `data/raw/` directory, and re-running the notebooks with the excerpt-creating code uncommented.\n",
    "\n",
    "### Continuation\n",
    "This notebook is a continuation of the work begun in the `1_global_terrorism_import_eda_features` notebook. In that notebook we imported, explored, and processed the dataset into a format ready for machine learning. In this notebook we will run that machine learning in order to create a system capable of identifying which terrorist groups are responsible for which attacks."
   ]
  },
  {
   "cell_type": "code",
   "execution_count": 1,
   "metadata": {},
   "outputs": [],
   "source": [
    "from pathlib import Path\n",
    "\n",
    "import lightgbm as lgb\n",
    "import matplotlib.pyplot as plt\n",
    "import matplotlib.ticker as mtick\n",
    "import missingno\n",
    "import numpy as np\n",
    "import pandas as pd\n",
    "import seaborn as sns\n",
    "import sklearn.dummy\n",
    "import sklearn.linear_model\n",
    "import sklearn.metrics\n",
    "import sklearn.model_selection\n",
    "import sklearn.preprocessing\n",
    "import skopt\n",
    "import skopt.plots\n",
    "import skopt.space\n",
    "import skopt.utils\n",
    "import tqdm\n",
    "\n",
    "%matplotlib inline"
   ]
  },
  {
   "cell_type": "code",
   "execution_count": 2,
   "metadata": {},
   "outputs": [],
   "source": [
    "# set up a clean plotting style\n",
    "sns.set_style('whitegrid')\n",
    "\n",
    "# make figures a little high-res (and larger in Jupyter)\n",
    "plt.rc('figure', dpi=120)"
   ]
  },
  {
   "cell_type": "code",
   "execution_count": 3,
   "metadata": {},
   "outputs": [],
   "source": [
    "SEED = 0"
   ]
  },
  {
   "cell_type": "code",
   "execution_count": 4,
   "metadata": {},
   "outputs": [],
   "source": [
    "data_dir = Path('../data/processed/')\n",
    "train_df = pd.read_pickle(data_dir / 'train_df.pkl')\n",
    "test_df = pd.read_pickle(data_dir / 'test_df.pkl')\n",
    "unknown_df = pd.read_pickle(data_dir / 'unknown_df.pkl')"
   ]
  },
  {
   "cell_type": "markdown",
   "metadata": {},
   "source": [
    "# Getting a baseline\n",
    "As a first step towards building a powerful machine learning system to identify the perpetrators behind terrorist attacks across the globe, we will establish the following:\n",
    "\n",
    "1. A few \"dummy\" modeling approaches. The first approach will represent the approach we would take if we had no predictive information, only the target values, and then beyond that we will select at least one high-bias, simple machine learning technique and apply it with minimal data preprocessing. This technique will let us get a sense of how easy it is for ML to beat the initial baseline as well as how easy it is for ML to overfit.\n",
    "\n",
    "* Performance metrics. These are functions that map a set of labels and a set of corresponding predictions to a continuous scalar value (number) that represents how good the predictions are.\n",
    "\n",
    "* A standard out-of-sample testing methodlogy. This means either splitting off some of the training data to use as a \"validation set\" or engaging in some form of cross-validation.\n",
    "\n",
    "We will then combine these components to get a few baseline scores: the in-sample \"training\" performand and pseudo-out-of-sample \"validation\" performance of each of our dummy approaches.\n",
    "\n",
    "We will use the following components:\n",
    "1. Prior probability dummy regression (predicting the probability of a perpetrator being responsible for an incident as the percentage of previous incidents that that perpetrator was responsible for), and Logistic Regression (a simple linear model) trained on all the predictive variables that are not missing values.\n",
    "\n",
    "* Cross-entropy (a measurement of the difference between the distribution of predictions and the distributions of the labels) and top-1 classification accuracy (which is simply the average rate at which the group which is predicted to be most likely to have perpetrated an incident is actually the group that perpetrated it). We will work with both of these metrics because it is both important that the probabilities our models assign roughly correspond to the actual frequency with which those predictions are correct (this property is also often called \"calibration\") and to measure how frequently our model is \"right\" in assigning a single label to an unknown value (which is presumably what it will be used for: labeling the \"unknown\" perpetrators with our best guess of who it probably was). The first objective is measured effectively by cross-entropy, and the second by top-1 accuracy. It is also good to note that our models will be trained to minimize cross-entropy, not misclassification error, since the non-differentiability of misclassification error as an objective function prohibits us from designing learning algorithms which minimize it in a computationally feasible way.\n",
    "\n",
    "* Five-fold cross-validation. This technique has the advantage of allowing us to train our model on a larger portion of the data and test on a smaller portion at the same degree of uncertainty / noise in our performance measurements, due to the fact that we repeat the process of training and testing multiple times. It costs many times as much computation, but this tradeoff will generally be worth it on datasets as small as this one (<100k rows to train on)."
   ]
  },
  {
   "cell_type": "code",
   "execution_count": 5,
   "metadata": {},
   "outputs": [
    {
     "data": {
      "text/plain": [
       "[((30074,), (7548,)),\n",
       " ((30105,), (7517,)),\n",
       " ((30251,), (7371,)),\n",
       " ((30185,), (7437,)),\n",
       " ((29873,), (7749,))]"
      ]
     },
     "execution_count": 5,
     "metadata": {},
     "output_type": "execute_result"
    }
   ],
   "source": [
    "# DEFINEING CROSS VALIDATION\n",
    "\n",
    "# we will again split our data via date rather than\n",
    "# by row to somewhat mitigate the effects of some incidents\n",
    "# being highly related to others\n",
    "cv = sklearn.model_selection.KFold(5, shuffle=True, random_state=SEED)\n",
    "train_df_dates = train_df['date'].unique()\n",
    "date_splits = cv.split(train_df_dates)\n",
    "row_splits = [(train_df.index[train_df['date'].isin(train_df_dates[train_idx])], \n",
    "               train_df.index[train_df['date'].isin(train_df_dates[test_idx])])\n",
    "              for train_idx, test_idx in date_splits]\n",
    "\n",
    "def cross_val_predict(model, train_features, train_target):\n",
    "    \"\"\"Uses the kfold cross validation above to get out-of-sample\n",
    "    predictions for every data point in the training set.\"\"\"\n",
    "    predictions = pd.DataFrame(0, index=train_target.index, columns=train_target.cat.categories)\n",
    "    for train_index, val_index in tqdm.tqdm(row_splits):\n",
    "        model.fit(train_features.loc[train_index, :], \n",
    "                  train_target.loc[train_index].cat.codes)\n",
    "        predictions.loc[val_index, :] = model.predict_proba(train_features.loc[val_index, :])\n",
    "    return predictions\n",
    "\n",
    "def cross_val_score(model, train_features, train_target):\n",
    "    \"\"\"Uses the kfold cross validation above to get a list of ten validation\n",
    "    scores for both crossentropy and accuracy.\"\"\"\n",
    "    predictions = cross_val_predict(model, train_features, train_target)\n",
    "    crossentropy_scores = [sklearn.metrics.log_loss(train_target.loc[val_index].cat.codes, \n",
    "                                                    predictions.loc[val_index])\n",
    "                           for _, val_index in row_splits]\n",
    "    accuracy_scores = [predictions.loc[val_index].idxmax(axis=1).eq(train_target.loc[val_index]).mean()\n",
    "                       for _, val_index in row_splits]\n",
    "    return crossentropy_scores, accuracy_scores\n",
    "\n",
    "def in_sample_score(model, train_features, train_target):\n",
    "    \"\"\"Gets in-sample crossentropy and accuracy scores.\"\"\"\n",
    "    model.fit(train_features, train_target.cat.codes)\n",
    "    predictions = pd.DataFrame(model.predict_proba(train_features),\n",
    "                               index=train_target.index, columns=train_target.cat.categories)\n",
    "    crossentropy = sklearn.metrics.log_loss(train_target.cat.codes, predictions)\n",
    "    accuracy = predictions.idxmax(axis=1).eq(train_target).mean()\n",
    "    return crossentropy, accuracy\n",
    "\n",
    "# look at the shape of our row splits\n",
    "[(train.shape, val.shape) for train, val in row_splits]"
   ]
  },
  {
   "cell_type": "code",
   "execution_count": 6,
   "metadata": {},
   "outputs": [
    {
     "data": {
      "text/plain": [
       "(0.0039494470774091624, 0.3352825474456435)"
      ]
     },
     "execution_count": 6,
     "metadata": {},
     "output_type": "execute_result"
    }
   ],
   "source": [
    "# should we drop claim variables? probably! unknown acts are hardly ever claimed.\n",
    "unknown_df['claimed'].eq(1).mean(), train_df['claimed'].eq(1).mean()"
   ]
  },
  {
   "cell_type": "code",
   "execution_count": 7,
   "metadata": {},
   "outputs": [],
   "source": [
    "# getting features and targets\n",
    "\n",
    "# define variables which cannot be used as features\n",
    "# e.g. the label, guncertain (which relates to the label)\n",
    "non_feature_cols = ['date',      # datetime not understood by models \n",
    "                    # target info\n",
    "                    'gname',\n",
    "                    'guncertain1', \n",
    "                    'guncertain_has_other_levels', \n",
    "                    \n",
    "                    # drop claims because unknown perpetrator\n",
    "                    # incidents don't have claims\n",
    "                    'claimed', \n",
    "                    'claim_has_other_levels', \n",
    "                    'claimmode', \n",
    "                    'compclaim',\n",
    "                    ]\n",
    "features = train_df.columns.difference(non_feature_cols)\n",
    "\n",
    "# we will one-hot encode features, standard scale continuous features, \n",
    "# and sorts everything alphabetically to prepare it for general ML work\n",
    "categorical_types = ['category', 'bool']\n",
    "train_continuous_features = train_df[features].select_dtypes(exclude=categorical_types).copy()\n",
    "train_categorical_features = train_df[features].select_dtypes(include=categorical_types).copy()\n",
    "scaler = sklearn.preprocessing.StandardScaler()\n",
    "train_continuous_features[:] = scaler.fit_transform(train_continuous_features)\n",
    "train_categorical_features = pd.get_dummies(train_categorical_features, dummy_na=True)\n",
    "train_features = pd.concat([train_continuous_features, train_categorical_features], axis=1).sort_index(axis=1)\n",
    "\n",
    "test_continuous_features = test_df[features].select_dtypes(exclude=categorical_types).copy()\n",
    "test_categorical_features = test_df[features].select_dtypes(include=categorical_types).copy()\n",
    "test_continuous_features[:] = scaler.transform(test_continuous_features)\n",
    "test_categorical_features = pd.get_dummies(test_categorical_features, dummy_na=True)\n",
    "test_features = pd.concat([test_continuous_features, test_categorical_features], axis=1).sort_index(axis=1)\n",
    "\n",
    "train_target = train_df['gname']\n",
    "test_target = test_df['gname']"
   ]
  },
  {
   "cell_type": "code",
   "execution_count": 8,
   "metadata": {},
   "outputs": [
    {
     "name": "stderr",
     "output_type": "stream",
     "text": [
      "100%|██████████| 5/5 [00:00<00:00, 12.48it/s]\n"
     ]
    },
    {
     "name": "stdout",
     "output_type": "stream",
     "text": [
      "The dummy baseline for crossentopy is 2.6216 +/- 0.0194\n",
      "The dummy baseline for top1 accuracy is 0.3068 +/- 0.0090\n"
     ]
    }
   ],
   "source": [
    "# setting up baseline models\n",
    "dummy_classifier = sklearn.dummy.DummyClassifier(strategy='prior')\n",
    "logistic_regression_classifier = sklearn.linear_model.LogisticRegression(multi_class='multinomial', solver='lbfgs',\n",
    "                                                                         random_state=SEED, max_iter=100)\n",
    "\n",
    "dummy_crossentropies, dummy_accuracies = cross_val_score(dummy_classifier,\n",
    "                                                         train_features,\n",
    "                                                         train_target)\n",
    "print(f'The dummy baseline for crossentopy is {np.mean(dummy_crossentropies):.4f}'\n",
    "      f' +/- {np.std(dummy_crossentropies):.4f}')\n",
    "print(f'The dummy baseline for top1 accuracy is {np.mean(dummy_accuracies):.4f}'\n",
    "      f' +/- {np.std(dummy_accuracies):.4f}')"
   ]
  },
  {
   "cell_type": "code",
   "execution_count": 9,
   "metadata": {},
   "outputs": [
    {
     "name": "stderr",
     "output_type": "stream",
     "text": [
      "  0%|          | 0/5 [00:00<?, ?it/s]/home/luke/Projects/global-terrorism-db/venv/global-terrorism-db/lib/python3.7/site-packages/sklearn/linear_model/logistic.py:758: ConvergenceWarning: lbfgs failed to converge. Increase the number of iterations.\n",
      "  \"of iterations.\", ConvergenceWarning)\n",
      " 20%|██        | 1/5 [00:16<01:07, 16.93s/it]/home/luke/Projects/global-terrorism-db/venv/global-terrorism-db/lib/python3.7/site-packages/sklearn/linear_model/logistic.py:758: ConvergenceWarning: lbfgs failed to converge. Increase the number of iterations.\n",
      "  \"of iterations.\", ConvergenceWarning)\n",
      " 40%|████      | 2/5 [00:33<00:50, 16.76s/it]/home/luke/Projects/global-terrorism-db/venv/global-terrorism-db/lib/python3.7/site-packages/sklearn/linear_model/logistic.py:758: ConvergenceWarning: lbfgs failed to converge. Increase the number of iterations.\n",
      "  \"of iterations.\", ConvergenceWarning)\n",
      " 60%|██████    | 3/5 [00:49<00:33, 16.52s/it]/home/luke/Projects/global-terrorism-db/venv/global-terrorism-db/lib/python3.7/site-packages/sklearn/linear_model/logistic.py:758: ConvergenceWarning: lbfgs failed to converge. Increase the number of iterations.\n",
      "  \"of iterations.\", ConvergenceWarning)\n",
      " 80%|████████  | 4/5 [01:04<00:16, 16.29s/it]/home/luke/Projects/global-terrorism-db/venv/global-terrorism-db/lib/python3.7/site-packages/sklearn/linear_model/logistic.py:758: ConvergenceWarning: lbfgs failed to converge. Increase the number of iterations.\n",
      "  \"of iterations.\", ConvergenceWarning)\n",
      "100%|██████████| 5/5 [01:21<00:00, 16.26s/it]\n"
     ]
    },
    {
     "name": "stdout",
     "output_type": "stream",
     "text": [
      "The lr_baseline baseline for crossentopy is 0.8013 +/- 0.0117\n",
      "The lr_baseline baseline for top1 accuracy is 0.6928 +/- 0.0062\n"
     ]
    }
   ],
   "source": [
    "lr_baseline_crossentropies, lr_baseline_accuracies = cross_val_score(logistic_regression_classifier,\n",
    "                                                                     train_features.dropna(axis=1),\n",
    "                                                                     train_target)\n",
    "print(f'The lr_baseline baseline for crossentopy is {np.mean(lr_baseline_crossentropies):.4f}'\n",
    "      f' +/- {np.std(lr_baseline_crossentropies):.4f}')\n",
    "print(f'The lr_baseline baseline for top1 accuracy is {np.mean(lr_baseline_accuracies):.4f}'\n",
    "      f' +/- {np.std(lr_baseline_accuracies):.4f}')"
   ]
  },
  {
   "cell_type": "code",
   "execution_count": 10,
   "metadata": {},
   "outputs": [
    {
     "name": "stderr",
     "output_type": "stream",
     "text": [
      "/home/luke/Projects/global-terrorism-db/venv/global-terrorism-db/lib/python3.7/site-packages/sklearn/linear_model/logistic.py:758: ConvergenceWarning: lbfgs failed to converge. Increase the number of iterations.\n",
      "  \"of iterations.\", ConvergenceWarning)\n"
     ]
    },
    {
     "name": "stdout",
     "output_type": "stream",
     "text": [
      "The lr_baseline baseline for crossentopy is 0.7226.\n",
      "The lr_baseline baseline for top1 accuracy is 0.7189.\n"
     ]
    }
   ],
   "source": [
    "lr_insample_crossentropy, lr_insample_accuracy = in_sample_score(logistic_regression_classifier,\n",
    "                                                                 train_features.dropna(axis=1),\n",
    "                                                                 train_target)\n",
    "print(f'The lr_baseline baseline for crossentopy is {lr_insample_crossentropy:.4f}.')\n",
    "print(f'The lr_baseline baseline for top1 accuracy is {lr_insample_accuracy:.4f}.')"
   ]
  },
  {
   "cell_type": "markdown",
   "metadata": {},
   "source": [
    "### Baseline conclusions\n",
    "In running the above baseline work, we find that a simple linear classifier is capable of achieving around 70% accuracy in determining the perpetrator of a terrorist attack, while the baseline best-guess achieves only 30% accuracy. Additionally, we see a substantial reduction in cross-entropy as well in moving from the dummy guess to the linear model. We do see that there appears to be an \"upper limit\" in-sample accuracy very close to the 70% cross-validated accuracy score, suggesting that there is relatively low overfitting. We see from the cross-entorpy scores that there is some overfitting, though.\n",
    "\n",
    "All in all, we can be happy that this task seems very tractable for machine learning, and we will focus our model selection search toward more complicated nonlinear models that can handle missing values in their inputs in the hopes that we can eke out increased accuracy. We do not need to worry too much about feature selection or dimensionality reduction at this juncture, since those techniques tend to be used to mitigate overfitting, and we are not currently seeing much overfitting so far.\n",
    "\n",
    "### Next steps\n",
    "It would be a valid next step to perform imputation / filling on the columns containing NaNs that we dropped in our first step. However, given that we have a fair amount of data and its types are heterogeneous, it makes sense to try tree-ensemble methods on this data as well, and for those techniques NaN handling should be performed slightly differently, with NaNs being filled as sentinel values or left as NaNs for the built-in NaN handling to deal with.\n",
    "\n",
    "As a next step, we will try using the LightGBM boosted trees library to improve our performance over the above baseline."
   ]
  },
  {
   "cell_type": "code",
   "execution_count": 11,
   "metadata": {},
   "outputs": [
    {
     "name": "stderr",
     "output_type": "stream",
     "text": [
      "100%|██████████| 5/5 [01:20<00:00, 16.20s/it]\n"
     ]
    }
   ],
   "source": [
    "lgb_model = lgb.LGBMClassifier(random_state=SEED, bagging_freq=1, n_estimators=100)\n",
    "lgb_crossentropy, lgb_accuracy = cross_val_score(lgb_model,\n",
    "                                                 train_features.fillna(-999),\n",
    "                                                 train_target)"
   ]
  },
  {
   "cell_type": "code",
   "execution_count": 12,
   "metadata": {},
   "outputs": [],
   "source": [
    "lgb_crossentropy_insample, lgb_accuracy_insample = in_sample_score(\n",
    "    lgb_model, train_features.fillna(-999), train_target)"
   ]
  },
  {
   "cell_type": "code",
   "execution_count": 13,
   "metadata": {},
   "outputs": [
    {
     "name": "stdout",
     "output_type": "stream",
     "text": [
      "LGB untuned crossentopy is 0.6869 +/- 0.0162\n",
      "LGB untuned top1 accuracy is 0.7509 +/- 0.0053\n"
     ]
    }
   ],
   "source": [
    "print(f'LGB untuned crossentopy is {np.mean(lgb_crossentropy):.4f}'\n",
    "      f' +/- {np.std(lgb_crossentropy):.4f}')\n",
    "print(f'LGB untuned top1 accuracy is {np.mean(lgb_accuracy):.4f}'\n",
    "      f' +/- {np.std(lgb_accuracy):.4f}')"
   ]
  },
  {
   "cell_type": "code",
   "execution_count": 14,
   "metadata": {},
   "outputs": [
    {
     "name": "stdout",
     "output_type": "stream",
     "text": [
      "Insample LGB crossentopy is 0.3507.\n",
      "Insample LGB top1 accuracy is 0.8848.\n"
     ]
    }
   ],
   "source": [
    "print(f'Insample LGB crossentopy is {lgb_crossentropy_insample:.4f}.')\n",
    "print(f'Insample LGB top1 accuracy is {lgb_accuracy_insample:.4f}.')"
   ]
  },
  {
   "cell_type": "markdown",
   "metadata": {},
   "source": [
    "As we can see, using a boosted trees approach (with stock hyperparemeters) got us a performance improvement of over 5% classification accuracy. We also see that this model overfits much more strongly than the logistic regression model, so there may be some benefit to be had in performing feature selection or tuning.\n",
    "\n",
    "### Feature importance\n",
    "Using a boosted tree model also gives us valuable insight into which features are more importance than others for the purpose of predicting terrorist identity. Out of curiosity let's look at which features are important, and then let's see if removing the less important features helps with overfitting.\n",
    "\n",
    "NOTE: Removing features deemed uninportant by training on the entire training set may cause a slight bias in the performance scores measured by cross-validation over the training set, but in my experience feature importances don't tend to chance too drastically from training set to testing set when there is a good signal-to-noise ratio in the data like we observe here (where a model beats the dummy baseline very significantly)."
   ]
  },
  {
   "cell_type": "code",
   "execution_count": 15,
   "metadata": {},
   "outputs": [
    {
     "data": {
      "text/plain": [
       "incident_year                                             114860.318727\n",
       "region_South Asia                                         101460.406036\n",
       "region_Sub-Saharan Africa                                  80375.523966\n",
       "region_Middle East & North Africa                          70060.026605\n",
       "INT_IDEO_1.0                                               64059.565758\n",
       "region_Southeast Asia                                      55616.711024\n",
       "INT_LOG_nan                                                43799.561432\n",
       "region_South America                                       39086.895519\n",
       "INT_IDEO_0.0                                               34535.982958\n",
       "nkill                                                      20924.830624\n",
       "region_Eastern Europe                                      18364.823322\n",
       "nwound                                                     15957.803085\n",
       "INT_LOG_0.0                                                13482.010615\n",
       "nperps                                                     11854.176650\n",
       "INT_MISC_0.0                                                8136.279127\n",
       "ishostkid_1.0                                               7454.585743\n",
       "multiple_0.0                                                7373.449761\n",
       "nkillter                                                    6874.671643\n",
       "weapsubtype1_Projectile (rockets, mortars, RPGs, etc.)      6829.806792\n",
       "targsubtype1_Village/City/Town/Suburb                       6669.105865\n",
       "country_nationalty_same                                     6598.230335\n",
       "attacktype1_Bombing/Explosion                               6567.001039\n",
       "INT_LOG_1.0                                                 6511.143522\n",
       "region_Western Europe                                       6136.503797\n",
       "weapsubtype1_Unknown Gun Type                               4684.672559\n",
       "weapsubtype1_Unknown Explosive Type                         4395.856310\n",
       "INT_MISC_1.0                                                4052.563673\n",
       "weapsubtype1_Landmine                                       3897.477836\n",
       "nperpcap                                                    3443.811562\n",
       "crit3_0.0                                                   3418.657652\n",
       "targsubtype1_Gas                                            3237.251736\n",
       "weapsubtype1_Suicide (carried bodily by human being)        2982.982810\n",
       "attacktype1_Armed Assault                                   2852.393467\n",
       "nwoundte                                                    2735.609344\n",
       "property_0.0                                                2604.698445\n",
       "weapsubtype_has_other_levels                                2528.575831\n",
       "weapsubtype1_Knife or Other Sharp Object                    2526.879417\n",
       "targsubtype1_Unnamed Civilian/Unspecified                   2517.027733\n",
       "weapsubtype1_Remote Trigger                                 2458.462478\n",
       "weapsubtype1_Other Explosive Type                           2452.448806\n",
       "nhostkid                                                    2427.547873\n",
       "weapsubtype1_Grenade                                        2371.139278\n",
       "attacktype1_Assassination                                   2167.295458\n",
       "propextent_Minor (likely < $1 million)                      2097.054021\n",
       "ransom_1.0                                                  2085.115013\n",
       "targsubtype1_Police Security Forces/Officers                2029.103690\n",
       "suicide_0.0                                                 2016.754979\n",
       "weapsubtype1_nan                                            2007.714707\n",
       "ransom_0.0                                                  1997.006440\n",
       "alternative_nan                                             1933.555859\n",
       "dtype: float64"
      ]
     },
     "execution_count": 15,
     "metadata": {},
     "output_type": "execute_result"
    }
   ],
   "source": [
    "feature_importance = pd.Series(lgb_model.booster_.feature_importance(importance_type='gain'),\n",
    "                               index=train_features.columns).sort_values(ascending=False)\n",
    "feature_importance.head(50)"
   ]
  },
  {
   "cell_type": "code",
   "execution_count": 16,
   "metadata": {},
   "outputs": [
    {
     "data": {
      "text/plain": [
       "targsubtype1_Entertainment/Cultural/Stadium/Casino                                      9.768283\n",
       "targsubtype1_Memorial/Cemetery/Monument                                                 7.649730\n",
       "targsubtype1_Public Area (garden, parking lot, garage, beach, public building, camp)    7.311507\n",
       "weapsubtype1_Hands, Feet, Fists                                                         5.678980\n",
       "targsubtype1_Ambulance                                                                  5.055492\n",
       "crit2_0.0                                                                               2.790371\n",
       "INT_MISC_nan                                                                            0.748854\n",
       "individual_nan                                                                          0.000000\n",
       "targsubtype1_Legal Services                                                             0.000000\n",
       "targsubtype1_Clinics                                                                    0.000000\n",
       "targsubtype1_Demilitarized Zone (including Green Zone)                                  0.000000\n",
       "targsubtype1_Fire Fighter/Truck                                                         0.000000\n",
       "targsubtype1_Food Supply                                                                0.000000\n",
       "targsubtype1_Highway/Road/Toll/Traffic Signal                                           0.000000\n",
       "targsubtype1_Internet Infrastructure                                                    0.000000\n",
       "targsubtype1_Port                                                                       0.000000\n",
       "targsubtype1_Military Weaponry                                                          0.000000\n",
       "weapsubtype1_Poisoning                                                                  0.000000\n",
       "targsubtype1_Multinational Corporation                                                  0.000000\n",
       "targsubtype1_Multiple Telecommunication Targets                                         0.000000\n",
       "targsubtype1_Non-combatant Personnel                                                    0.000000\n",
       "targsubtype1_Oil Tanker                                                                 0.000000\n",
       "weapsubtype1_Suffocation                                                                0.000000\n",
       "targsubtype1_Other Facility                                                             0.000000\n",
       "targsubtype1_Personnel                                                                  0.000000\n",
       "targsubtype1_Civilian Maritime                                                          0.000000\n",
       "attacktype1_nan                                                                         0.000000\n",
       "targsubtype1_Airline Officer/Personnel                                                  0.000000\n",
       "targsubtype1_Royalty                                                                    0.000000\n",
       "multiple_nan                                                                            0.000000\n",
       "vicinity_-9.0                                                                           0.000000\n",
       "targsubtype1_Tourism Travel Agency                                                      0.000000\n",
       "hostkidoutcome_Attempted Rescue                                                         0.000000\n",
       "extended_nan                                                                            0.000000\n",
       "targsubtype1_Tour Bus/Van                                                               0.000000\n",
       "targsubtype1_Television                                                                 0.000000\n",
       "doubtterr_nan                                                                           0.000000\n",
       "propextent_Catastrophic (likely >= $1 billion)                                          0.000000\n",
       "crit3_nan                                                                               0.000000\n",
       "vicinity_nan                                                                            0.000000\n",
       "region_Central America & Caribbean                                                      0.000000\n",
       "targsubtype1_Rally                                                                      0.000000\n",
       "crit2_nan                                                                               0.000000\n",
       "targsubtype1_Radio                                                                      0.000000\n",
       "crit1_nan                                                                               0.000000\n",
       "region_nan                                                                              0.000000\n",
       "success_nan                                                                             0.000000\n",
       "claimmode_has_other_levels                                                              0.000000\n",
       "suicide_nan                                                                             0.000000\n",
       "region_Australasia & Oceania                                                            0.000000\n",
       "dtype: float64"
      ]
     },
     "execution_count": 16,
     "metadata": {},
     "output_type": "execute_result"
    }
   ],
   "source": [
    "feature_importance.tail(50)"
   ]
  },
  {
   "cell_type": "code",
   "execution_count": 17,
   "metadata": {},
   "outputs": [
    {
     "data": {
      "image/png": "[encoded data removed]",
      "text/plain": [
       "<Figure size 720x480 with 1 Axes>"
      ]
     },
     "metadata": {},
     "output_type": "display_data"
    }
   ],
   "source": [
    "plt.plot(np.arange(feature_importance.shape[0]) + 1, feature_importance.cumsum()/feature_importance.sum())\n",
    "plt.title('Cumulative Gain vs. Number of Features')\n",
    "plt.gca().yaxis.set_major_formatter(mtick.PercentFormatter(xmax=1))"
   ]
  },
  {
   "cell_type": "markdown",
   "metadata": {},
   "source": [
    "It seems that we get almost all of the total information gain from the first 100 to 150 features. Let's try restricting ourselves to the first 80 features."
   ]
  },
  {
   "cell_type": "code",
   "execution_count": 18,
   "metadata": {},
   "outputs": [
    {
     "name": "stderr",
     "output_type": "stream",
     "text": [
      "100%|██████████| 5/5 [00:58<00:00, 11.67s/it]\n"
     ]
    }
   ],
   "source": [
    "selected_features = feature_importance[:80].index.tolist()\n",
    "lgb_crossentropy, lgb_accuracy = cross_val_score(lgb_model,\n",
    "                                                 train_features[selected_features].fillna(-999),\n",
    "                                                 train_target)"
   ]
  },
  {
   "cell_type": "code",
   "execution_count": 19,
   "metadata": {},
   "outputs": [],
   "source": [
    "lgb_crossentropy_insample, lgb_accuracy_insample = in_sample_score(\n",
    "    lgb_model, train_features[selected_features].fillna(-999), train_target)"
   ]
  },
  {
   "cell_type": "code",
   "execution_count": 20,
   "metadata": {},
   "outputs": [
    {
     "name": "stdout",
     "output_type": "stream",
     "text": [
      "LGB untuned crossentopy is 0.7130 +/- 0.0143\n",
      "LGB untuned top1 accuracy is 0.7417 +/- 0.0051\n"
     ]
    }
   ],
   "source": [
    "print(f'LGB untuned crossentopy is {np.mean(lgb_crossentropy):.4f}'\n",
    "      f' +/- {np.std(lgb_crossentropy):.4f}')\n",
    "print(f'LGB untuned top1 accuracy is {np.mean(lgb_accuracy):.4f}'\n",
    "      f' +/- {np.std(lgb_accuracy):.4f}')"
   ]
  },
  {
   "cell_type": "code",
   "execution_count": 21,
   "metadata": {},
   "outputs": [
    {
     "name": "stdout",
     "output_type": "stream",
     "text": [
      "Insample LGB crossentopy is 0.3764.\n",
      "Insample LGB top1 accuracy is 0.8716.\n"
     ]
    }
   ],
   "source": [
    "print(f'Insample LGB crossentopy is {lgb_crossentropy_insample:.4f}.')\n",
    "print(f'Insample LGB top1 accuracy is {lgb_accuracy_insample:.4f}.')"
   ]
  },
  {
   "cell_type": "markdown",
   "metadata": {},
   "source": [
    "Interestingly, we find that there is almost no change in the in-sample scores even on a much lower-dimensional dataset, and a decrease in out-of-sample performance rather than an increase. We will thus avoid using these selected features and instead stick to the full feature set.\n",
    "\n",
    "# Tuning\n",
    "While feature selection may not have improved model performance, choosing a better set of model hyperparameters will almost assuredly boost our performance above what the stock parameters achieve. One of the challenges of working with a boosted trees model, however, is that there are a large number of hyperparameters that can be adjusted, and coming up with a strategy to optimize them effectively can be difficult.\n",
    "\n",
    "Random grid search is frequently used when an exhaustive search of different hyperparameter configurations is not possible. To take a slightly more sophisticated approach, we will be using Gaussian process regression to model the hyperparameter search and select which configurations to test. This approach falls under the unbrella of Sequential Model Based Optimization. We will be using the scikit-optimize package to run GP regression."
   ]
  },
  {
   "cell_type": "code",
   "execution_count": 22,
   "metadata": {},
   "outputs": [],
   "source": [
    "search_space = [\n",
    "    skopt.space.Integer(2, 127, name='num_leaves'),\n",
    "    skopt.space.Real(1e-2, .5, 'log-uniform', name='learning_rate'),\n",
    "    skopt.space.Real(0.3, 1.0, name='colsample_bytree'),\n",
    "    skopt.space.Real(0.3, 1.0, name='subsample'),\n",
    "    skopt.space.Integer(1, 100, name='min_child_samples'),\n",
    "]\n",
    "\n",
    "@skopt.utils.use_named_args(search_space)\n",
    "def objective(**params):\n",
    "    params = {**dict(bagging_freq=1, random_state=0), **params}\n",
    "    model = lgb.LGBMClassifier(**params)\n",
    "    xent, _ = cross_val_score(model, train_features.fillna(-999), train_target)\n",
    "    return np.mean(xent)"
   ]
  },
  {
   "cell_type": "code",
   "execution_count": 23,
   "metadata": {},
   "outputs": [
    {
     "name": "stderr",
     "output_type": "stream",
     "text": [
      "100%|██████████| 5/5 [02:42<00:00, 32.67s/it]\n",
      "100%|██████████| 5/5 [01:21<00:00, 16.31s/it]\n",
      "100%|██████████| 5/5 [01:24<00:00, 16.93s/it]\n",
      "100%|██████████| 5/5 [00:21<00:00,  4.39s/it]\n",
      "100%|██████████| 5/5 [01:18<00:00, 15.69s/it]\n",
      "100%|██████████| 5/5 [02:08<00:00, 25.65s/it]\n",
      "100%|██████████| 5/5 [01:24<00:00, 16.93s/it]\n",
      "100%|██████████| 5/5 [02:23<00:00, 28.78s/it]\n",
      "100%|██████████| 5/5 [01:58<00:00, 23.78s/it]\n",
      "100%|██████████| 5/5 [00:53<00:00, 10.66s/it]\n",
      "100%|██████████| 5/5 [01:00<00:00, 12.17s/it]\n",
      "100%|██████████| 5/5 [01:03<00:00, 12.69s/it]\n",
      "100%|██████████| 5/5 [01:06<00:00, 13.25s/it]\n",
      "100%|██████████| 5/5 [00:36<00:00,  7.33s/it]\n",
      "100%|██████████| 5/5 [01:06<00:00, 13.19s/it]\n",
      "100%|██████████| 5/5 [01:34<00:00, 18.89s/it]\n",
      "100%|██████████| 5/5 [02:00<00:00, 24.11s/it]\n",
      "100%|██████████| 5/5 [00:54<00:00, 10.93s/it]\n",
      "100%|██████████| 5/5 [01:41<00:00, 20.38s/it]\n",
      "100%|██████████| 5/5 [03:23<00:00, 41.47s/it]\n",
      "100%|██████████| 5/5 [03:12<00:00, 36.93s/it]\n",
      "100%|██████████| 5/5 [02:09<00:00, 25.34s/it]\n",
      "100%|██████████| 5/5 [01:35<00:00, 18.88s/it]\n",
      "100%|██████████| 5/5 [02:09<00:00, 25.91s/it]\n",
      "100%|██████████| 5/5 [01:24<00:00, 16.78s/it]\n",
      "100%|██████████| 5/5 [01:13<00:00, 14.79s/it]\n",
      "100%|██████████| 5/5 [01:08<00:00, 13.35s/it]\n",
      "100%|██████████| 5/5 [01:08<00:00, 13.77s/it]\n",
      "100%|██████████| 5/5 [02:00<00:00, 24.06s/it]\n",
      "100%|██████████| 5/5 [01:15<00:00, 15.30s/it]\n",
      "100%|██████████| 5/5 [00:34<00:00,  6.88s/it]\n",
      "100%|██████████| 5/5 [00:19<00:00,  3.81s/it]\n",
      "100%|██████████| 5/5 [03:08<00:00, 37.67s/it]\n",
      "100%|██████████| 5/5 [00:26<00:00,  5.26s/it]\n",
      "100%|██████████| 5/5 [03:11<00:00, 38.60s/it]\n",
      "100%|██████████| 5/5 [01:33<00:00, 18.71s/it]\n",
      "100%|██████████| 5/5 [02:04<00:00, 24.88s/it]\n",
      "100%|██████████| 5/5 [02:18<00:00, 27.70s/it]\n",
      "100%|██████████| 5/5 [02:30<00:00, 30.07s/it]\n",
      "100%|██████████| 5/5 [00:19<00:00,  3.80s/it]\n",
      "100%|██████████| 5/5 [02:33<00:00, 30.73s/it]\n",
      "100%|██████████| 5/5 [00:20<00:00,  4.19s/it]\n",
      "100%|██████████| 5/5 [00:34<00:00,  7.13s/it]\n",
      "100%|██████████| 5/5 [01:32<00:00, 18.52s/it]\n",
      "100%|██████████| 5/5 [00:20<00:00,  4.06s/it]\n",
      "100%|██████████| 5/5 [02:54<00:00, 34.77s/it]\n",
      "100%|██████████| 5/5 [02:38<00:00, 31.72s/it]\n",
      "100%|██████████| 5/5 [01:09<00:00, 13.82s/it]\n",
      "100%|██████████| 5/5 [01:04<00:00, 12.98s/it]\n",
      "100%|██████████| 5/5 [01:36<00:00, 19.52s/it]\n",
      "100%|██████████| 5/5 [02:39<00:00, 31.97s/it]\n",
      "100%|██████████| 5/5 [02:43<00:00, 32.44s/it]\n",
      "100%|██████████| 5/5 [01:47<00:00, 21.47s/it]\n",
      "100%|██████████| 5/5 [01:43<00:00, 20.78s/it]\n",
      "100%|██████████| 5/5 [01:42<00:00, 20.51s/it]\n",
      "100%|██████████| 5/5 [02:02<00:00, 24.53s/it]\n",
      "100%|██████████| 5/5 [02:37<00:00, 31.44s/it]\n",
      "100%|██████████| 5/5 [01:48<00:00, 21.65s/it]\n",
      "100%|██████████| 5/5 [02:04<00:00, 24.93s/it]\n",
      "100%|██████████| 5/5 [01:50<00:00, 22.05s/it]\n",
      "100%|██████████| 5/5 [02:01<00:00, 24.25s/it]\n",
      "100%|██████████| 5/5 [01:46<00:00, 21.32s/it]\n",
      "100%|██████████| 5/5 [02:14<00:00, 26.97s/it]\n",
      "100%|██████████| 5/5 [01:52<00:00, 22.50s/it]\n",
      "100%|██████████| 5/5 [01:58<00:00, 23.60s/it]\n",
      "100%|██████████| 5/5 [01:49<00:00, 21.84s/it]\n",
      "100%|██████████| 5/5 [01:32<00:00, 18.40s/it]\n",
      "100%|██████████| 5/5 [02:02<00:00, 24.56s/it]\n",
      "100%|██████████| 5/5 [01:57<00:00, 23.55s/it]\n",
      "100%|██████████| 5/5 [01:41<00:00, 20.25s/it]\n",
      "100%|██████████| 5/5 [02:04<00:00, 24.89s/it]\n",
      "100%|██████████| 5/5 [01:54<00:00, 22.80s/it]\n",
      "100%|██████████| 5/5 [01:56<00:00, 23.37s/it]\n",
      "100%|██████████| 5/5 [01:54<00:00, 22.85s/it]\n",
      "100%|██████████| 5/5 [01:17<00:00, 15.58s/it]\n",
      "100%|██████████| 5/5 [01:58<00:00, 23.65s/it]\n",
      "100%|██████████| 5/5 [01:56<00:00, 23.48s/it]\n",
      "100%|██████████| 5/5 [01:57<00:00, 23.54s/it]\n",
      "100%|██████████| 5/5 [01:39<00:00, 19.86s/it]\n",
      "100%|██████████| 5/5 [01:53<00:00, 22.77s/it]\n",
      "100%|██████████| 5/5 [01:57<00:00, 23.47s/it]\n",
      "100%|██████████| 5/5 [00:23<00:00,  4.76s/it]\n",
      "100%|██████████| 5/5 [02:23<00:00, 29.26s/it]\n",
      "100%|██████████| 5/5 [02:08<00:00, 25.90s/it]\n",
      "100%|██████████| 5/5 [01:51<00:00, 22.18s/it]\n",
      "100%|██████████| 5/5 [01:47<00:00, 21.45s/it]\n",
      "100%|██████████| 5/5 [01:52<00:00, 22.54s/it]\n",
      "100%|██████████| 5/5 [02:08<00:00, 25.83s/it]\n",
      "100%|██████████| 5/5 [01:33<00:00, 18.76s/it]\n",
      "100%|██████████| 5/5 [02:16<00:00, 25.40s/it]\n",
      "100%|██████████| 5/5 [02:04<00:00, 24.52s/it]\n",
      "100%|██████████| 5/5 [01:52<00:00, 22.44s/it]\n",
      "100%|██████████| 5/5 [01:50<00:00, 22.06s/it]\n",
      "100%|██████████| 5/5 [02:09<00:00, 25.65s/it]\n",
      "100%|██████████| 5/5 [01:54<00:00, 22.74s/it]\n",
      "100%|██████████| 5/5 [01:49<00:00, 21.86s/it]\n",
      "100%|██████████| 5/5 [01:55<00:00, 22.81s/it]\n",
      "100%|██████████| 5/5 [01:50<00:00, 22.22s/it]\n",
      "100%|██████████| 5/5 [01:53<00:00, 22.80s/it]\n",
      "100%|██████████| 5/5 [01:55<00:00, 23.30s/it]\n"
     ]
    }
   ],
   "source": [
    "res_gp = skopt.gp_minimize(objective, search_space, n_calls=100, n_random_starts=30)"
   ]
  },
  {
   "cell_type": "code",
   "execution_count": 24,
   "metadata": {},
   "outputs": [
    {
     "data": {
      "text/plain": [
       "(0.6, 1.0)"
      ]
     },
     "execution_count": 24,
     "metadata": {},
     "output_type": "execute_result"
    },
    {
     "data": {
      "image/png": "[encoded data removed]",
      "text/plain": [
       "<Figure size 720x480 with 1 Axes>"
      ]
     },
     "metadata": {},
     "output_type": "display_data"
    }
   ],
   "source": [
    "convergence = pd.Series(res_gp.func_vals).cummin()\n",
    "plt.plot(convergence)\n",
    "plt.ylabel('Cross Entropy of Best Configuration')\n",
    "plt.xlabel('Iteration Number')\n",
    "plt.title('Hyperparameter Optimization Summary')\n",
    "plt.ylim(.6, 1.0)"
   ]
  },
  {
   "cell_type": "code",
   "execution_count": 25,
   "metadata": {},
   "outputs": [
    {
     "data": {
      "text/plain": [
       "{'num_leaves': 64,\n",
       " 'learning_rate': 0.0826879903924392,\n",
       " 'colsample_bytree': 0.7673698117683464,\n",
       " 'subsample': 0.850392109200204,\n",
       " 'min_child_samples': 75}"
      ]
     },
     "execution_count": 25,
     "metadata": {},
     "output_type": "execute_result"
    }
   ],
   "source": [
    "selected_configuration = dict(zip([x.name for x in search_space], res_gp.x))\n",
    "selected_configuration"
   ]
  },
  {
   "cell_type": "markdown",
   "metadata": {},
   "source": [
    "# Testing\n",
    "While the purpose of this project is to try and infer the perpetrators for incidents in which the perpetrators are unknown, we cannot actually test the efficacy of our machine learning system unless we actually know the perpetrators of the indicents we test on. We thus separated out 30% of our labeled data into the test set, which we will now run a single test on with our best model: the tuned LightGBM gradient boosted machine."
   ]
  },
  {
   "cell_type": "code",
   "execution_count": 26,
   "metadata": {},
   "outputs": [
    {
     "name": "stdout",
     "output_type": "stream",
     "text": [
      "Final test crossentopy is 0.6364.\n",
      "Final test top1 accuracy is 0.7675.\n"
     ]
    }
   ],
   "source": [
    "tuned_params = {**dict(random_state=SEED, bagging_freq=1), **selected_configuration}\n",
    "model = lgb.LGBMClassifier(**tuned_params)\n",
    "model.fit(train_features.fillna(-999), train_target.cat.codes)\n",
    "predictions = pd.DataFrame(model.predict_proba(test_features.fillna(-999)),\n",
    "                               index=test_target.index, columns=test_target.cat.categories)\n",
    "crossentropy = sklearn.metrics.log_loss(test_target.cat.codes, predictions)\n",
    "accuracy = predictions.idxmax(axis=1).eq(test_target).mean()\n",
    "print(f'Final test crossentopy is {crossentropy:.4f}.')\n",
    "print(f'Final test top1 accuracy is {accuracy:.4f}.')"
   ]
  },
  {
   "cell_type": "code",
   "execution_count": 27,
   "metadata": {},
   "outputs": [
    {
     "data": {
      "text/plain": [
       "OTHER_GROUP                                       0.288277\n",
       "Taliban                                           0.155862\n",
       "Islamic State of Iraq and the Levant (ISIL)       0.114244\n",
       "Al-Shabaab                                        0.061782\n",
       "Boko Haram                                        0.044490\n",
       "New People's Army (NPA)                           0.037925\n",
       "Communist Party of India - Maoist (CPI-Maoist)    0.034760\n",
       "Maoists                                           0.032122\n",
       "Revolutionary Armed Forces of Colombia (FARC)     0.027843\n",
       "Kurdistan Workers' Party (PKK)                    0.023857\n",
       "Houthi extremists (Ansar Allah)                   0.020516\n",
       "Al-Qaida in the Arabian Peninsula (AQAP)          0.014537\n",
       "Tehrik-i-Taliban Pakistan (TTP)                   0.013892\n",
       "Donetsk People's Republic                         0.013365\n",
       "Liberation Tigers of Tamil Eelam (LTTE)           0.011079\n",
       "Al-Qaida in Iraq                                  0.010375\n",
       "Fulani extremists                                 0.010258\n",
       "Muslim extremists                                 0.009906\n",
       "Palestinian Extremists                            0.008324\n",
       "Algerian Islamic Extremists                       0.008030\n",
       "Separatists                                       0.007386\n",
       "Sinai Province of the Islamic State               0.007386\n",
       "Bangsamoro Islamic Freedom Movement (BIFM)        0.007034\n",
       "National Liberation Army of Colombia (ELN)        0.006213\n",
       "Khorasan Chapter of the Islamic State             0.005979\n",
       "Moro Islamic Liberation Front (MILF)              0.005217\n",
       "Abu Sayyaf Group (ASG)                            0.004924\n",
       "Baloch Republican Army (BRA)                      0.004924\n",
       "Chechen Rebels                                    0.003751\n",
       "Hamas (Islamic Resistance Movement)               0.003165\n",
       "United Liberation Front of Assam (ULFA)           0.002579\n",
       "dtype: float64"
      ]
     },
     "execution_count": 27,
     "metadata": {},
     "output_type": "execute_result"
    }
   ],
   "source": [
    "# let's also look at the prediction frequency\n",
    "predictions.idxmax(axis=1).value_counts(normalize=True)"
   ]
  },
  {
   "cell_type": "code",
   "execution_count": 28,
   "metadata": {},
   "outputs": [
    {
     "data": {
      "text/plain": [
       "OTHER_GROUP                                       0.293376\n",
       "Taliban                                           0.137632\n",
       "Islamic State of Iraq and the Levant (ISIL)       0.108265\n",
       "Al-Shabaab                                        0.059965\n",
       "Boko Haram                                        0.044725\n",
       "Communist Party of India - Maoist (CPI-Maoist)    0.034467\n",
       "New People's Army (NPA)                           0.031243\n",
       "Maoists                                           0.029777\n",
       "Kurdistan Workers' Party (PKK)                    0.026260\n",
       "Tehrik-i-Taliban Pakistan (TTP)                   0.023329\n",
       "Revolutionary Armed Forces of Colombia (FARC)     0.022860\n",
       "Houthi extremists (Ansar Allah)                   0.022040\n",
       "Al-Qaida in the Arabian Peninsula (AQAP)          0.018464\n",
       "Liberation Tigers of Tamil Eelam (LTTE)           0.012075\n",
       "Muslim extremists                                 0.012075\n",
       "Al-Qaida in Iraq                                  0.011841\n",
       "Donetsk People's Republic                         0.011137\n",
       "National Liberation Army of Colombia (ELN)        0.009437\n",
       "Fulani extremists                                 0.009437\n",
       "Palestinian Extremists                            0.009203\n",
       "Abu Sayyaf Group (ASG)                            0.009144\n",
       "Bangsamoro Islamic Freedom Movement (BIFM)        0.008734\n",
       "Sinai Province of the Islamic State               0.008558\n",
       "Separatists                                       0.008030\n",
       "Algerian Islamic Extremists                       0.006272\n",
       "Moro Islamic Liberation Front (MILF)              0.005979\n",
       "Baloch Republican Army (BRA)                      0.005920\n",
       "Khorasan Chapter of the Islamic State             0.005803\n",
       "United Liberation Front of Assam (ULFA)           0.005100\n",
       "Hamas (Islamic Resistance Movement)               0.004865\n",
       "Chechen Rebels                                    0.003986\n",
       "Name: gname, dtype: float64"
      ]
     },
     "execution_count": 28,
     "metadata": {},
     "output_type": "execute_result"
    }
   ],
   "source": [
    "# and we can also peek at the true frequency now, too\n",
    "test_target.value_counts(normalize=True)"
   ]
  },
  {
   "cell_type": "markdown",
   "metadata": {},
   "source": [
    "# Testing takeaways\n",
    "In the end, we were able to create a system that was able to correctly infer the group responsible for a terrorist incident over 75% of the time on data it had never seen before. While we did restrict our system to predicting from the top 30 terrorist groups, only roughly 30% of terrorist incidents are carried out by groups other than those 30, so this system at face value offers a great deal of real-world value. It is also good to note that we achieved a low cross-entropy score and that the distribution of groups in the predictions and true labels were very similar, suggesting that our model is fairly well calibrated!\n",
    "\n",
    "### The unknown\n",
    "\n",
    "As well as the system performed on our test set, we cannot be certain that it will function the same way when it comes to inferring the groups behind the \"unknown\" incidents. To assume that these incidents follow the same distribution as the labeled incidents in which the GTD curators were able to identify the perpetrator would be a grave mistake. However, some information is better than none, so as long as we don't assume that every prediction is most likely correct, we can still check and see if our system uncovers any intersting patterns in the uknown data."
   ]
  },
  {
   "cell_type": "code",
   "execution_count": 29,
   "metadata": {},
   "outputs": [
    {
     "data": {
      "text/plain": [
       "OTHER_GROUP                                      0.374408\n",
       "Muslim extremists                                0.305065\n",
       "Maoists                                          0.250580\n",
       "Separatists                                      0.052570\n",
       "Fulani extremists                                0.017125\n",
       "Palestinian Extremists                           0.000168\n",
       "Abu Sayyaf Group (ASG)                           0.000034\n",
       "Revolutionary Armed Forces of Colombia (FARC)    0.000034\n",
       "Chechen Rebels                                   0.000017\n",
       "dtype: float64"
      ]
     },
     "execution_count": 29,
     "metadata": {},
     "output_type": "execute_result"
    }
   ],
   "source": [
    "unknown_continuous_features = unknown_df[features].select_dtypes(exclude=categorical_types).copy()\n",
    "unknown_categorical_features = unknown_df[features].select_dtypes(include=categorical_types).copy()\n",
    "unknown_continuous_features[:] = scaler.transform(unknown_continuous_features)\n",
    "unknown_categorical_features = pd.get_dummies(unknown_categorical_features, dummy_na=True)\n",
    "unknown_features = pd.concat([unknown_continuous_features, unknown_categorical_features], axis=1).sort_index(axis=1)\n",
    "predicted_unknown_groups = predictions = pd.DataFrame(model.predict_proba(unknown_features.fillna(-999)),\n",
    "                                                      index=unknown_features.index, columns=test_target.cat.categories).idxmax(axis=1)\n",
    "\n",
    "predicted_unknown_groups.value_counts(normalize=True)"
   ]
  },
  {
   "cell_type": "markdown",
   "metadata": {},
   "source": [
    "# Takeaways on the unknown data\n",
    "Compared to the test set, the predictions for the unknown set are vastly different. It seems that ISIL and the Taliban, which account for 25% of test-set incidents and 27% of test-set predictions, have completely dissapeared from the predictions on the unknown set. This suggests that perhaps these major groups have a distinctive \"fingerprint\" that our model learned effectively, and that these groups were clearly not responsible for the \"unknown\" incidents. Indeed, few specific named groups place highly in the predictions on the \"unknown\" set, with generic terms like \"muslim extremists\" and \"separatists\" taking the top places in terms of predicted frequency.\n",
    "\n",
    "In conclusion, it seems that our model is suggesting that the \"unknown\" incidents are very likely not attributable to any major group. It could be that our model actually can tell with accuracy whether these unknown incidents were caused by \"muslim extremests\" as opposed to \"separatists\" or \"maoists,\" but given that those categories make up so little of the labeled data, we should not assume that the performance metrics we observed on the test data will hold for these. All we can really conclude is that our model was one of the best we could learn from the data we had and that it found some interesting patterns around specific groups not be accountable for the \"unknown\" incidents."
   ]
  },
  {
   "cell_type": "markdown",
   "metadata": {},
   "source": [
    "# Future work\n",
    "No good scientific analysis is complete without some reflection on what could be done differently to improve the process. I have identified the following major areas for improvement:\n",
    "\n",
    "* Run more tuning iterations. 30 iterations is enough to get a sense of the value of running hyperparameter optimization, but running more iterations may lead us to finding a better set of hyperparameters that improve performance.\n",
    "\n",
    "* Don't drop high cardinality categorical fields. We saw in our feature importance printout that region-based locations were quite important features, suggesting that the country and nationality features may be helpful to performance. It would make sense to implement some sort of rebinning or truncating process by which we could keep 20-50 of the 100+ levels of theese variables in our dataset, rather than dropping them. An easy way to go about this would be to keep only the top K levels by total number of incidents in that country in the training data.\n",
    "\n",
    "* Extract information from text fields. We dropped over 20 different fields containing text that could be useful and predictive. We should instead either use keyword matching to extract some information from these fields or engage in a more fulsome NLP approach and encode this text (as TF-IDF features or similar) for use in ML modeling.\n",
    "\n",
    "* Tune more hyperparameters. We barely scratched the surface of the hyperparameters that could be tuned in our GBM. For example, regularization, ensemble size, and learning rate can all be altered to try and find a better configuration.\n",
    "\n",
    "* Stack and ensemble. By using cross-validation to get pseudo-out-of-sample predictions, we can train models to learn from other models' predictions in a process called \"stacking.\" This would allow us to combine the predictions of a number of well-performing GBM configurations or combine our tree-based GBM with another model like a multilayer perceptron via stacking under a simpler model like Logistic Regression. Using a simpler model like Logistic Regression can also have a positive effect on calibration.\n",
    "\n",
    "* Learn a confidence measure. When labeling the \"unknown\" data, it would be extremely helpful to get a sense of how confident the model is in its prediction at each datapoint beyond the confidence implied by its predicted probability. We can train a model on the outputs of our model and on some of the key features that predicts how likely our model is to be correct on that particular sample. This model could the be used to estimate our confidence around our predictions on the unknown data."
   ]
  },
  {
   "cell_type": "code",
   "execution_count": null,
   "metadata": {},
   "outputs": [],
   "source": []
  }
 ],
 "metadata": {
  "kernelspec": {
   "display_name": "Python 3",
   "language": "python",
   "name": "python3"
  },
  "language_info": {
   "codemirror_mode": {
    "name": "ipython",
    "version": 3
   },
   "file_extension": ".py",
   "mimetype": "text/x-python",
   "name": "python",
   "nbconvert_exporter": "python",
   "pygments_lexer": "ipython3",
   "version": "3.7.1"
  }
 },
 "nbformat": 4,
 "nbformat_minor": 2
}
